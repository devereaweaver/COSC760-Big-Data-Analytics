{
 "cells": [
  {
   "cell_type": "code",
   "execution_count": 2,
   "id": "1aec59c4-de81-4e10-86ba-d56a589df0c5",
   "metadata": {},
   "outputs": [
    {
     "name": "stdout",
     "output_type": "stream",
     "text": [
      "Downloading prepared data from HDFS. Please wait...\n",
      "2024-12-05 11:30:23,780 WARN util.NativeCodeLoader: Unable to load native-hadoop library for your platform... using builtin-java classes where applicable\n",
      "Done!\n"
     ]
    }
   ],
   "source": [
    "# Download files from HDFS into working environment\n",
    "! [ -d monte-carlo-risk ] || (echo \"Downloading prepared data from HDFS. Please wait...\" ; \\\n",
    "                    hdfs dfs -copyToLocal /financial_risk . ; echo \"Done!\";)"
   ]
  },
  {
   "cell_type": "code",
   "execution_count": 8,
   "id": "c4b69412-b1e9-45c3-8e07-af332b73bb04",
   "metadata": {},
   "outputs": [
    {
     "name": "stdout",
     "output_type": "stream",
     "text": [
      "+----------+------+------+------+-----+-------+--------+\n",
      "|      Date| Price|  Open|  High|  Low|   Vol.|Change %|\n",
      "+----------+------+------+------+-----+-------+--------+\n",
      "|01/23/2014| 97.32| 96.69| 97.84|96.41|274.08K|   0.61%|\n",
      "|01/22/2014| 96.73|  95.2| 96.89|95.12|252.35K|   1.83%|\n",
      "|01/21/2014| 94.99|  94.0| 95.23|93.43| 35.63K|   1.12%|\n",
      "|01/20/2014| 93.93| 94.31| 94.31|93.66|   NULL|  -0.46%|\n",
      "|01/17/2014| 94.37| 94.17| 94.94|93.94|119.89K|   0.44%|\n",
      "|01/16/2014| 93.96| 94.29| 94.64| 93.6|165.14K|  -0.22%|\n",
      "|01/15/2014| 94.17| 92.65| 94.64|92.43|263.30K|   1.71%|\n",
      "|01/14/2014| 92.59| 91.51| 92.88| 91.5|243.47K|   0.86%|\n",
      "|01/13/2014|  91.8| 92.83| 92.88|91.43|212.21K|  -0.99%|\n",
      "|01/10/2014| 92.72|  92.3| 93.38|91.99|255.99K|   1.16%|\n",
      "|01/09/2014| 91.66| 92.58| 92.93|91.24|255.78K|  -0.73%|\n",
      "|01/08/2014| 92.33| 93.96| 94.18|92.26|244.86K|  -1.43%|\n",
      "|01/07/2014| 93.67|  93.6| 94.22|93.35|177.18K|   0.26%|\n",
      "|01/06/2014| 93.43| 94.18| 94.59| 93.2|189.38K|  -0.56%|\n",
      "|01/03/2014| 93.96| 95.47| 95.74|93.86|215.52K|  -1.55%|\n",
      "|01/02/2014| 95.44|  98.5| 98.97|95.34|251.25K|  -3.30%|\n",
      "|01/01/2014|  98.7| 98.61| 98.76|98.54|   NULL|   0.28%|\n",
      "|12/31/2013| 98.42| 99.25| 99.39|98.15|113.91K|  -0.88%|\n",
      "|12/30/2013| 99.29|100.15|100.42|99.13|118.36K|  -1.03%|\n",
      "|12/27/2013|100.32| 99.63|100.75|99.37|127.20K|   0.77%|\n",
      "+----------+------+------+------+-----+-------+--------+\n",
      "only showing top 20 rows\n",
      "\n",
      "+----------+------+------+------+-----+-------+--------+\n",
      "|      Date| Price|  Open|  High|  Low|   Vol.|Change %|\n",
      "+----------+------+------+------+-----+-------+--------+\n",
      "|01/23/2014| 97.32| 96.69| 97.84|96.41|274.08K|   0.61%|\n",
      "|01/22/2014| 96.73|  95.2| 96.89|95.12|252.35K|   1.83%|\n",
      "|01/21/2014| 94.99|  94.0| 95.23|93.43| 35.63K|   1.12%|\n",
      "|01/20/2014| 93.93| 94.31| 94.31|93.66|   NULL|  -0.46%|\n",
      "|01/17/2014| 94.37| 94.17| 94.94|93.94|119.89K|   0.44%|\n",
      "|01/16/2014| 93.96| 94.29| 94.64| 93.6|165.14K|  -0.22%|\n",
      "|01/15/2014| 94.17| 92.65| 94.64|92.43|263.30K|   1.71%|\n",
      "|01/14/2014| 92.59| 91.51| 92.88| 91.5|243.47K|   0.86%|\n",
      "|01/13/2014|  91.8| 92.83| 92.88|91.43|212.21K|  -0.99%|\n",
      "|01/10/2014| 92.72|  92.3| 93.38|91.99|255.99K|   1.16%|\n",
      "|01/09/2014| 91.66| 92.58| 92.93|91.24|255.78K|  -0.73%|\n",
      "|01/08/2014| 92.33| 93.96| 94.18|92.26|244.86K|  -1.43%|\n",
      "|01/07/2014| 93.67|  93.6| 94.22|93.35|177.18K|   0.26%|\n",
      "|01/06/2014| 93.43| 94.18| 94.59| 93.2|189.38K|  -0.56%|\n",
      "|01/03/2014| 93.96| 95.47| 95.74|93.86|215.52K|  -1.55%|\n",
      "|01/02/2014| 95.44|  98.5| 98.97|95.34|251.25K|  -3.30%|\n",
      "|01/01/2014|  98.7| 98.61| 98.76|98.54|   NULL|   0.28%|\n",
      "|12/31/2013| 98.42| 99.25| 99.39|98.15|113.91K|  -0.88%|\n",
      "|12/30/2013| 99.29|100.15|100.42|99.13|118.36K|  -1.03%|\n",
      "|12/27/2013|100.32| 99.63|100.75|99.37|127.20K|   0.77%|\n",
      "+----------+------+------+------+-----+-------+--------+\n",
      "only showing top 20 rows\n",
      "\n"
     ]
    }
   ],
   "source": [
    "# Read data into a PySpark DataFrame using SparkSql\n",
    "from pyspark.sql import SparkSession\n",
    "\n",
    "# Step 1: Create a SparkSession\n",
    "spark = SparkSession.builder \\\n",
    "    .appName(\"Read CSV from HDFS\") \\\n",
    "    .getOrCreate()\n",
    "\n",
    "# Step 2: Define the HDFS folder path where your CSV files are stored\n",
    "#hdfs_folder_path = \"hdfs://namenode:port/path/to/csv_folder/\"\n",
    "crude_oil_path = \"financial_risk/crudeoil.csv\"\n",
    "tbond_path = \"financial_risk/crudeoil.csv\"\n",
    "\n",
    "# Step 3: Read CSV files into a PySpark DataFrame\n",
    "# This will read all CSV files in the specified folder\n",
    "crude_oil_df = spark.read.csv(crude_oil_path, header=True, inferSchema=True)\n",
    "tbond_df = spark.read.csv(tbond_path, header=True, inferSchema=True)\n",
    "\n",
    "# Step 4: Show the DataFrame (optional)\n",
    "crude_oil_df.show()\n",
    "tbond_df.show()\n",
    "\n",
    "# Step 5: Stop the Spark session (optional if script ends here)\n",
    "spark.stop()\n"
   ]
  }
 ],
 "metadata": {
  "kernelspec": {
   "display_name": "Python 3 (ipykernel)",
   "language": "python",
   "name": "python3"
  },
  "language_info": {
   "codemirror_mode": {
    "name": "ipython",
    "version": 3
   },
   "file_extension": ".py",
   "mimetype": "text/x-python",
   "name": "python",
   "nbconvert_exporter": "python",
   "pygments_lexer": "ipython3",
   "version": "3.12.7"
  }
 },
 "nbformat": 4,
 "nbformat_minor": 5
}
