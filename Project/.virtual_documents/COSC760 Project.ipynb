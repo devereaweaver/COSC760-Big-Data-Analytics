# Download files from HDFS into working environment
! [ -d monte-carlo-risk ] || (echo "Downloading prepared data from HDFS. Please wait..." ; \
                    hdfs dfs -copyToLocal /financial_risk . ; echo "Done!";)


# Read data into a PySpark DataFrame using SparkSql
from pyspark.sql import SparkSession

# Step 1: Create a SparkSession
spark = SparkSession.builder \
    .appName("Read CSV from HDFS") \
    .getOrCreate()

# Step 2: Define the HDFS folder path where your CSV files are stored
#hdfs_folder_path = "hdfs://namenode:port/path/to/csv_folder/"
crude_oil_path = "financial_risk/crudeoil.csv"
tbond_path = "financial_risk/crudeoil.csv"

# Step 3: Read CSV files into a PySpark DataFrame
# This will read all CSV files in the specified folder
crude_oil_df = spark.read.csv(crude_oil_path, header=True, inferSchema=True)
tbond_df = spark.read.csv(tbond_path, header=True, inferSchema=True)

# Step 4: Show the DataFrame (optional)
crude_oil_df.show()
tbond_df.show()

# Step 5: Stop the Spark session (optional if script ends here)
spark.stop()



# Create a plot showing the price for each day
from pyspark.sql import SparkSession
import pandas as pd
import matplotlib.pyplot as plt

# Initialize Spark session
#spark = SparkSession.builder.appName("Data Visualization").getOrCreate()

# Load the CSV files into PySpark DataFrames
#crudeoil_df = spark.read.csv('path_to/crudeoil.csv', header=True, inferSchema=True)
#treasurybonds_df = spark.read.csv('path_to/us30yeartreasurybonds.csv', header=True, inferSchema=True)

# Convert PySpark DataFrames to Pandas DataFrames for plotting
crudeoil_pd = crudeoil_df.toPandas()
treasurybonds_pd = treasurybonds_df.toPandas()

# Ensure date columns are in datetime format
crudeoil_pd['Date'] = pd.to_datetime(crudeoil_pd['Date'])
treasurybonds_pd['Date'] = pd.to_datetime(treasurybonds_pd['Date'])

# Sort data by date for consistency in plotting
crudeoil_pd = crudeoil_pd.sort_values('Date')
treasurybonds_pd = treasurybonds_pd.sort_values('Date')

# Plotting both on the same chart
plt.figure(figsize=(12, 6))
plt.plot(crudeoil_pd['Date'], crudeoil_pd['Price'], label='Crude Oil Price', marker='o')
plt.plot(treasurybonds_pd['Date'], treasurybonds_pd['Price'], label='30-Year Treasury Bond Price', marker='x')

# Adding labels and legend
plt.title('Price vs. Date for Crude Oil and 30-Year Treasury Bonds')
plt.xlabel('Date')
plt.ylabel('Price')
plt.legend()
plt.grid(True)
plt.show()




